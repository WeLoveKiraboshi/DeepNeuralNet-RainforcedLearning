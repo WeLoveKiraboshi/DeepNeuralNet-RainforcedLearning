{
  "nbformat": 4,
  "nbformat_minor": 0,
  "metadata": {
    "colab": {
      "name": "COVIS-DeepLearningLab_3.ipynb",
      "provenance": [],
      "collapsed_sections": [],
      "toc_visible": true
    },
    "kernelspec": {
      "name": "python3",
      "display_name": "Python 3"
    },
    "accelerator": "GPU"
  },
  "cells": [
    {
      "cell_type": "markdown",
      "metadata": {
        "id": "t2dvfidjkDSO"
      },
      "source": [
        "#Lab features:\n",
        "\n",
        "1. Keras for building model\n",
        "\n",
        "2. Tensorboard for monitoring training process\n",
        "\n",
        "3. Tensorflow eager execution\n",
        "\n",
        "#Note: \n",
        "To execute a cell, press `Shift+Enter`\n",
        "\n",
        "To change this Notebook, click on **File** at the top of this page then choose **Save a copy in Drive**. Then go to your Google Drive, and find the newly created file and open it with **Colab**.\n"
      ]
    },
    {
      "cell_type": "code",
      "metadata": {
        "id": "Ps8yMC39jpU4"
      },
      "source": [
        "try:\n",
        "  # %tensorflow_version only exists in Colab.\n",
        "  %tensorflow_version 2.x\n",
        "except Exception:\n",
        "  pass\n",
        "\n",
        "# Load the TensorBoard notebook extension\n",
        "%load_ext tensorboard"
      ],
      "execution_count": null,
      "outputs": []
    },
    {
      "cell_type": "code",
      "metadata": {
        "id": "bwF9hlRfjyzZ",
        "colab": {
          "base_uri": "https://localhost:8080/"
        },
        "outputId": "9a4f37cb-0f05-4419-91f6-d0b2e423f3fd"
      },
      "source": [
        "import tensorflow as tf\n",
        "from tensorflow import keras\n",
        "\n",
        "import numpy as np\n",
        "import matplotlib.pyplot as plt\n",
        "\n",
        "import datetime\n",
        "\n",
        "print(\"Tensorflow version: \", tf.__version__)\n",
        "tf.executing_eagerly()  # enable eager execution"
      ],
      "execution_count": null,
      "outputs": [
        {
          "output_type": "stream",
          "text": [
            "Tensorflow version:  2.4.1\n"
          ],
          "name": "stdout"
        },
        {
          "output_type": "execute_result",
          "data": {
            "text/plain": [
              "True"
            ]
          },
          "metadata": {
            "tags": []
          },
          "execution_count": 2
        }
      ]
    },
    {
      "cell_type": "code",
      "metadata": {
        "id": "zBrk29EKP-FK"
      },
      "source": [
        "# Helper function for plotting predictions\n",
        "\n",
        "def plot_image(i, predictions_array, true_label, img):\n",
        "  predictions_array, true_label, img = predictions_array, true_label[i], img[i]\n",
        "  plt.grid(False)\n",
        "  plt.xticks([])\n",
        "  plt.yticks([])\n",
        "\n",
        "  plt.imshow(img, cmap=plt.cm.binary)\n",
        "\n",
        "  predicted_label = np.argmax(predictions_array)\n",
        "  if predicted_label == true_label:\n",
        "    color = 'blue'\n",
        "  else:\n",
        "    color = 'red'\n",
        "\n",
        "  plt.xlabel(\"Pred {} {:2.0f}% (True {})\".format(class_names[predicted_label],\n",
        "                                100*np.max(predictions_array),\n",
        "                                class_names[true_label]),\n",
        "                                color=color)\n",
        "\n",
        "def plot_value_array(i, predictions_array, true_label):\n",
        "  predictions_array, true_label = predictions_array, true_label[i]\n",
        "  plt.grid(False)\n",
        "  plt.xticks(range(10))\n",
        "  plt.yticks([])\n",
        "  thisplot = plt.bar(range(10), predictions_array, color=\"#777777\")\n",
        "  plt.ylim([0, 1])\n",
        "  predicted_label = np.argmax(predictions_array)\n",
        "\n",
        "  thisplot[predicted_label].set_color('red')\n",
        "  thisplot[true_label].set_color('blue')"
      ],
      "execution_count": null,
      "outputs": []
    },
    {
      "cell_type": "markdown",
      "metadata": {
        "id": "1UjQYQ0VlpMd"
      },
      "source": [
        "#1. MNIST Dataset\n",
        "\n",
        "MNIST dataset is made of 70000 (60000 for training and 10000 for testing) grey scale images of handwritten digits. The digits are size-normalized and centered in a fixed-size image of size 28x28.\n",
        "\n",
        "Since Keras offers API for accessing MNIST, we can directly load this dataset to this Notebook while avoiding the harsh of parsing the raw dataset."
      ]
    },
    {
      "cell_type": "code",
      "metadata": {
        "id": "hCmx-A8gkQrN"
      },
      "source": [
        "# Load the dataset and split it to trainning set and test set\n",
        "mnist = keras.datasets.mnist\n",
        "# Split the dataset into trainning set and test set\n",
        "(train_images, train_labels), (test_images, test_labels) = mnist.load_data()"
      ],
      "execution_count": null,
      "outputs": []
    },
    {
      "cell_type": "markdown",
      "metadata": {
        "id": "uCIfo4g3mb6F"
      },
      "source": [
        "##1.1 Explore the data\n",
        "\n",
        "`train_images` is 3D tensor. Like an RGB image made of 3 channels (Red, Green, Blue) each represents an image, `train_images` has 60000 channels, each channel is a grey scale image of size 28x28."
      ]
    },
    {
      "cell_type": "code",
      "metadata": {
        "id": "Qg6xbCp7kq7q",
        "colab": {
          "base_uri": "https://localhost:8080/"
        },
        "outputId": "6574272c-e1b0-4850-89aa-7dea8ef2d323"
      },
      "source": [
        "print(\"shape of train_images: \", train_images.shape)\n",
        "print(\"type of train_images: \", type(train_images))"
      ],
      "execution_count": null,
      "outputs": [
        {
          "output_type": "stream",
          "text": [
            "shape of train_images:  (60000, 28, 28)\n",
            "type of train_images:  <class 'numpy.ndarray'>\n"
          ],
          "name": "stdout"
        }
      ]
    },
    {
      "cell_type": "markdown",
      "metadata": {
        "id": "3G9Rus_mn844"
      },
      "source": [
        "`train_labels` stores the label of every image in `train_image` and is organized with the same order as `train_image`."
      ]
    },
    {
      "cell_type": "code",
      "metadata": {
        "id": "5tmUCVGRmtG9",
        "colab": {
          "base_uri": "https://localhost:8080/"
        },
        "outputId": "68db4b9c-be30-46f7-da19-4b9a54a6e8c7"
      },
      "source": [
        "print(\"shape of train_labels: \", train_labels.shape)\n",
        "print(\"type of train_images: \", type(train_labels))"
      ],
      "execution_count": null,
      "outputs": [
        {
          "output_type": "stream",
          "text": [
            "shape of train_labels:  (60000,)\n",
            "type of train_images:  <class 'numpy.ndarray'>\n"
          ],
          "name": "stdout"
        }
      ]
    },
    {
      "cell_type": "code",
      "metadata": {
        "id": "9_aLCEsC3342",
        "colab": {
          "base_uri": "https://localhost:8080/"
        },
        "outputId": "cb2786c2-7a15-4119-c1b3-856dbc60c9e4"
      },
      "source": [
        "class_names = np.unique(train_labels)\n",
        "print(\"All labels in the dataset:\\n\", class_names)"
      ],
      "execution_count": null,
      "outputs": [
        {
          "output_type": "stream",
          "text": [
            "All labels in the dataset:\n",
            " [0 1 2 3 4 5 6 7 8 9]\n"
          ],
          "name": "stdout"
        }
      ]
    },
    {
      "cell_type": "markdown",
      "metadata": {
        "id": "IXmdDrDUoaND"
      },
      "source": [
        "Let's display some data samples"
      ]
    },
    {
      "cell_type": "code",
      "metadata": {
        "id": "Q5gt-CaBn537",
        "colab": {
          "base_uri": "https://localhost:8080/",
          "height": 589
        },
        "outputId": "d2ad3986-489e-4fb2-f8c1-e343c47ce7b4"
      },
      "source": [
        "plt.figure(figsize=(10,10))\n",
        "for i in range(25):\n",
        "    plt.subplot(5,5,i+1)\n",
        "    plt.xticks([])\n",
        "    plt.yticks([])\n",
        "    plt.grid(False)\n",
        "    plt.imshow(train_images[i], cmap=plt.cm.binary)\n",
        "    plt.xlabel(class_names[train_labels[i]])\n",
        "plt.show()"
      ],
      "execution_count": null,
      "outputs": [
        {
          "output_type": "display_data",
          "data": {
            "image/png": "[encoded data removed]",
            "text/plain": [
              "<Figure size 720x720 with 25 Axes>"
            ]
          },
          "metadata": {
            "tags": []
          }
        }
      ]
    },
    {
      "cell_type": "markdown",
      "metadata": {
        "id": "ZC98WfN2Iw_v"
      },
      "source": [
        "### Scale images to the range of (0, 1) before training and split train, validation set\n",
        "\n",
        "If this step is not done, the model can't learn."
      ]
    },
    {
      "cell_type": "code",
      "metadata": {
        "id": "yYUD2xDxLeEm",
        "colab": {
          "base_uri": "https://localhost:8080/"
        },
        "outputId": "f68d3a1d-d7bd-4027-8788-ce9ca660f36b"
      },
      "source": [
        "train_images, test_images = train_images / 255.0, test_images / 255\n",
        "print(train_images.shape)\n",
        "print(train_labels.shape)\n",
        "print(test_images.shape)\n",
        "print(test_labels.shape)\n",
        "\n",
        "ratio = 0.01\n",
        "print('split train set to train:val={}:{}'.format(1-ratio, ratio))\n",
        "from sklearn.model_selection import train_test_split\n",
        "train_images, val_images,train_labels, val_labels = train_test_split(train_images, train_labels, test_size=ratio)\n",
        "print(train_images.shape)\n",
        "print(val_images.shape)\n",
        "print(train_labels.shape)\n",
        "print(val_labels.shape)"
      ],
      "execution_count": null,
      "outputs": [
        {
          "output_type": "stream",
          "text": [
            "(60000, 28, 28)\n",
            "(60000,)\n",
            "(10000, 28, 28)\n",
            "(10000,)\n",
            "split train set to train:val=0.99:0.01\n",
            "(59400, 28, 28)\n",
            "(600, 28, 28)\n",
            "(59400,)\n",
            "(600,)\n"
          ],
          "name": "stdout"
        }
      ]
    },
    {
      "cell_type": "markdown",
      "metadata": {
        "id": "JFV-xXys7hO_"
      },
      "source": [
        "#2. Fully Connected Network (FCN)\n",
        "\n",
        "An FCN shown below is a stack of fully (densely) connected layers. Each layer is an array of neurons, each of which carries out two operators. The first operator is the weighted sum of all input to a neuron, while the second is a non-linear function (e.g. sigmoid, relu).   \n",
        "\n",
        "<figure>\n",
        "<center>\n",
        "<img src='https://drive.google.com/uc?id=1qwdkn9y9L4S2Ue0NtUIRlplMFi6KAO1h'  width=\"450\" height=\"400\" />\n",
        "<figcaption>An example of FCN</figcaption></center>\n",
        "</figure>\n"
      ]
    },
    {
      "cell_type": "markdown",
      "metadata": {
        "id": "uGPU8h7UBPpt"
      },
      "source": [
        "##2.1 Building an FCN\n",
        "\n",
        "Here, a shallow FCN (with only one hidden layer) is built as an example. "
      ]
    },
    {
      "cell_type": "code",
      "metadata": {
        "id": "UqRVjoChBPOI"
      },
      "source": [
        "def fcn(input_shape):\n",
        "  \"\"\"\n",
        "  Define a shallow FCN\n",
        "  Input:\n",
        "    input_shape [tuple]: shape of input image (height, width, channel)\n",
        "  Output:\n",
        "    model (a tensorflow model instance)\n",
        "  \"\"\"\n",
        "  \n",
        "  # Input layer\n",
        "  X_in = keras.layers.Input(shape=input_shape)\n",
        "  X = keras.layers.Flatten()(X_in)\n",
        "\n",
        "  # Hidden layer\n",
        "  X = keras.layers.Dense(512, activation='relu', name=\"fcn_hidden\")(X)\n",
        "\n",
        "  # Output layer\n",
        "  y = keras.layers.Dense(10, activation='softmax', name=\"fcn_output\")(X)\n",
        "\n",
        "  model = keras.Model(inputs=X_in, outputs=y, name=\"fcn\")\n",
        "  return model\n"
      ],
      "execution_count": null,
      "outputs": []
    },
    {
      "cell_type": "markdown",
      "metadata": {
        "id": "yoahw43yG6T0"
      },
      "source": [
        "Create a model from the function defined above and checkout model's parameters"
      ]
    },
    {
      "cell_type": "code",
      "metadata": {
        "id": "aGtQIlxx-z8K",
        "colab": {
          "base_uri": "https://localhost:8080/"
        },
        "outputId": "b9360ce9-18cb-473b-e97a-e5aa37999b7f"
      },
      "source": [
        "model_fcn = fcn((28, 28))\n",
        "model_fcn.summary()"
      ],
      "execution_count": null,
      "outputs": [
        {
          "output_type": "stream",
          "text": [
            "Model: \"fcn\"\n",
            "_________________________________________________________________\n",
            "Layer (type)                 Output Shape              Param #   \n",
            "=================================================================\n",
            "input_1 (InputLayer)         [(None, 28, 28)]          0         \n",
            "_________________________________________________________________\n",
            "flatten (Flatten)            (None, 784)               0         \n",
            "_________________________________________________________________\n",
            "fcn_hidden (Dense)           (None, 512)               401920    \n",
            "_________________________________________________________________\n",
            "fcn_output (Dense)           (None, 10)                5130      \n",
            "=================================================================\n",
            "Total params: 407,050\n",
            "Trainable params: 407,050\n",
            "Non-trainable params: 0\n",
            "_________________________________________________________________\n"
          ],
          "name": "stdout"
        }
      ]
    },
    {
      "cell_type": "markdown",
      "metadata": {
        "id": "KP5K3aQIHavF"
      },
      "source": [
        "Compile the model by declaring the optimizer used for training and the loss function. The argument `metrics` are just for monitoring the training process, they don't have any effect on model training (i.e. adjusting model's weights to reduce value of loss function).   "
      ]
    },
    {
      "cell_type": "code",
      "metadata": {
        "id": "fZpiJRJiGUtv"
      },
      "source": [
        "#tf.keras.losses.SparseCategoricalCrossentropy(),\n",
        "model_fcn.compile(optimizer='Adam',\n",
        "              loss=tf.keras.losses.SparseCategoricalCrossentropy(), \n",
        "              metrics=['accuracy'])"
      ],
      "execution_count": null,
      "outputs": []
    },
    {
      "cell_type": "markdown",
      "metadata": {
        "id": "H-66o2ijLxda"
      },
      "source": [
        "## 2.2 Training the model\n",
        "While training, the evolution of model's `loss` and `accuracy` are logged so that they can be displayed later using `Tensorboard`\n",
        "\n",
        "Note: the log file is stored locally in the machine (on the cloud) running this Notebook, therefore it will be erased when you close the web browser. To keep the log files, you can [mount your Google Drive into colab](https://colab.research.google.com/notebooks/io.ipynb) and set the variable `log_dir` to the path to the chosen Drive's folder. The path to your Drive should starts with `/content/drive/My Drive/`"
      ]
    },
    {
      "cell_type": "code",
      "metadata": {
        "id": "aBfY2IYOH1KF",
        "colab": {
          "base_uri": "https://localhost:8080/"
        },
        "outputId": "c817e6d2-a305-4826-b62a-61358e7c5ff1"
      },
      "source": [
        "%rm -rf logs/fit/fcn_m\n",
        "log_dir = \"logs/fit/\" + \"fcn_m\"\n",
        "tensorboard_cb = tf.keras.callbacks.TensorBoard(log_dir=log_dir, histogram_freq=1)\n",
        "from keras.callbacks import EarlyStopping\n",
        "early_stopping =  EarlyStopping(\n",
        "                            monitor='val_loss',\n",
        "                            min_delta=0.0,\n",
        "                            patience=5,\n",
        ")\n",
        "\n",
        "epoch = 2\n",
        "bs = 1\n",
        "# Fitting the dataset\n",
        "model_fcn.fit(x=train_images, \n",
        "          y=train_labels, \n",
        "          batch_size=bs,\n",
        "          epochs=epoch, \n",
        "          validation_data=(val_images, val_labels), \n",
        "          callbacks=[tensorboard_cb, early_stopping])"
      ],
      "execution_count": 13,
      "outputs": [
        {
          "output_type": "stream",
          "text": [
            "Epoch 1/2\n",
            "59400/59400 [==============================] - 94s 2ms/step - loss: 0.3145 - accuracy: 0.9065 - val_loss: 0.1734 - val_accuracy: 0.9683\n",
            "Epoch 2/2\n",
            "59400/59400 [==============================] - 92s 2ms/step - loss: 0.1479 - accuracy: 0.9659 - val_loss: 0.2118 - val_accuracy: 0.9633\n"
          ],
          "name": "stdout"
        },
        {
          "output_type": "execute_result",
          "data": {
            "text/plain": [
              "<tensorflow.python.keras.callbacks.History at 0x7f334fd1f8d0>"
            ]
          },
          "metadata": {
            "tags": []
          },
          "execution_count": 13
        }
      ]
    },
    {
      "cell_type": "markdown",
      "metadata": {
        "id": "vJVY90CTMua6"
      },
      "source": [
        "Launch `Tensorboard` to check the evolution of loss and accuracy. This can take several seconds depend on your internet connection. \n",
        "\n",
        "In the GUI below, you can find several infomation about the model beside the `loss` and `accuracy` such as model's architecture in the `GRAPHS` window."
      ]
    },
    {
      "cell_type": "code",
      "metadata": {
        "id": "3yOf8d5ENFaD",
        "colab": {
          "base_uri": "https://localhost:8080/",
          "height": 838
        },
        "outputId": "75485c30-f47f-4030-afa5-361d3afcd001"
      },
      "source": [
        "# you will need to change the date and time\n",
        "%tensorboard --logdir logs/fit/fcn_m"
      ],
      "execution_count": 14,
      "outputs": [
        {
          "output_type": "display_data",
          "data": {
            "text/plain": [
              "Reusing TensorBoard on port 6006 (pid 3755), started 0:06:12 ago. (Use '!kill 3755' to kill it.)"
            ]
          },
          "metadata": {
            "tags": []
          }
        },
        {
          "output_type": "display_data",
          "data": {
            "application/javascript": [
              "\n",
              "        (async () => {\n",
              "            const url = new URL(await google.colab.kernel.proxyPort(6006, {'cache': true}));\n",
              "            url.searchParams.set('tensorboardColab', 'true');\n",
              "            const iframe = document.createElement('iframe');\n",
              "            iframe.src = url;\n",
              "            iframe.setAttribute('width', '100%');\n",
              "            iframe.setAttribute('height', '800');\n",
              "            iframe.setAttribute('frameborder', 0);\n",
              "            document.body.appendChild(iframe);\n",
              "        })();\n",
              "    "
            ],
            "text/plain": [
              "<IPython.core.display.Javascript object>"
            ]
          },
          "metadata": {
            "tags": []
          }
        }
      ]
    },
    {
      "cell_type": "markdown",
      "metadata": {
        "id": "1628JoJpIzXa"
      },
      "source": [
        "##2.3 Making predictions"
      ]
    },
    {
      "cell_type": "code",
      "metadata": {
        "id": "bH0MA1ppI1VA"
      },
      "source": [
        "# Get model's prediction for test set\n",
        "predictions = model_fcn.predict(test_images)"
      ],
      "execution_count": 15,
      "outputs": []
    },
    {
      "cell_type": "markdown",
      "metadata": {
        "id": "bzxv3gbiQLau"
      },
      "source": [
        "For a classification task, model outputs an array of probability of an image to belong to each class of object thanks to the output layer made of `softmax` activated neurons.\n",
        "\n",
        "Let's checkout the prediction for the first image in the test set"
      ]
    },
    {
      "cell_type": "code",
      "metadata": {
        "id": "h0AljdzHP72m",
        "colab": {
          "base_uri": "https://localhost:8080/"
        },
        "outputId": "f96e8df7-584b-4acd-f23d-e6d3aead66fd"
      },
      "source": [
        "print(\"Prediction for the first test image: \", predictions[0])"
      ],
      "execution_count": 16,
      "outputs": [
        {
          "output_type": "stream",
          "text": [
            "Prediction for the first test image:  [1.2095875e-18 5.5982730e-22 2.8021715e-13 9.6133626e-13 3.4106982e-23\n",
            " 1.3157891e-16 2.2377844e-27 1.0000000e+00 6.3599019e-24 5.5595120e-17]\n"
          ],
          "name": "stdout"
        }
      ]
    },
    {
      "cell_type": "markdown",
      "metadata": {
        "id": "ThZ6Xr3DQ-N4"
      },
      "source": [
        "The class of object this image belong to is decided by the class which the model assigns the highest probability to"
      ]
    },
    {
      "cell_type": "code",
      "metadata": {
        "id": "1OUtmJ5XQ9yF",
        "colab": {
          "base_uri": "https://localhost:8080/"
        },
        "outputId": "408af27c-ab04-4ca8-9b95-3bef40744a08"
      },
      "source": [
        "print(\"Predicted class of the first test image: \", np.argmax(predictions[0]))\n",
        "print(\"True label of the first test image: \", test_labels[0])"
      ],
      "execution_count": 17,
      "outputs": [
        {
          "output_type": "stream",
          "text": [
            "Predicted class of the first test image:  7\n",
            "True label of the first test image:  7\n"
          ],
          "name": "stdout"
        }
      ]
    },
    {
      "cell_type": "markdown",
      "metadata": {
        "id": "LaobA4o6R4pY"
      },
      "source": [
        "To have a clearer visualization of model's predictions, let's display some test images along with their prediction and true labels."
      ]
    },
    {
      "cell_type": "code",
      "metadata": {
        "id": "0tYJW8u7QG2E",
        "colab": {
          "base_uri": "https://localhost:8080/"
        },
        "outputId": "38114bbf-ede0-4ed2-8620-84a28e524f3d"
      },
      "source": [
        "# Plot the first X test images, their predicted labels, and the true labels.\n",
        "# Color correct predictions in blue and incorrect predictions in red.\n",
        "'''\n",
        "num_rows = 5\n",
        "num_cols = 3\n",
        "num_images = num_rows*num_cols\n",
        "plt.figure(figsize=(2*2*num_cols, 2*num_rows))\n",
        "for i in range(num_images):\n",
        "  plt.subplot(num_rows, 2*num_cols, 2*i+1)\n",
        "  plot_image(i, predictions[i], test_labels, test_images)\n",
        "  plt.subplot(num_rows, 2*num_cols, 2*i+2)\n",
        "  plot_value_array(i, predictions[i], test_labels)\n",
        "plt.tight_layout()\n",
        "plt.show()\n",
        "'''\n",
        "score = model_fcn.evaluate(test_images, test_labels, verbose=0)\n",
        "print('*** test result for Fully Connected Networks ***')\n",
        "print('Test loss:', score[0])\n",
        "print('Test accuracy:', score[1])\n",
        "\n"
      ],
      "execution_count": 18,
      "outputs": [
        {
          "output_type": "stream",
          "text": [
            "*** test result for Fully Connected Networks ***\n",
            "Test loss: 0.2118808627128601\n",
            "Test accuracy: 0.9625999927520752\n"
          ],
          "name": "stdout"
        }
      ]
    },
    {
      "cell_type": "markdown",
      "metadata": {
        "id": "cIsUBvKDSmbv"
      },
      "source": [
        "#3. Convolution Neural Network (CNN)\n",
        "\n",
        "#3.1 Limitation of FCN:\n",
        "Depiste the FCN does great on MNIST testing dataset (98% of accuracy), FCN poses 3 major limitations. \n",
        "\n",
        "Firstly, FCNs do not scale well for images since the size of the first hidden layer is equal to the area of input image. To process a high resolution image, for example 1080p, of the size 1920×1080, the first hidden layer contains more than 1 million neurons.\n",
        "\n",
        "Secondly, the `Flatten` layer discards all the information brought by pixel position and the correlation between one pixel and its neighbors. This information is highly valuable for cognition task. The reason for this claim can be explained intuitively by fact that we get the context of an image by looking at a sufficiently big chunk of pixel, not by focusing on only one pixel.\n",
        "\n",
        "Finally, FCNs behave differently when objects appear at different positions. In other word, FCNs are not transition invariant. \"For example, if a picture of a cat appears in the top left of the image in one picture and the bottom right of another picture, the MLP will try to correct itself and assume that a cat will always appear in this section of the image.\" ([source](https://https://towardsdatascience.com/simple-introduction-to-convolutional-neural-networks-cdf8d3077bac))\n",
        "\n",
        "<figure>\n",
        "<center>\n",
        "<img src='https://drive.google.com/uc?id=1Iau04cM3J_esZDTUVCrSBck7RmEHvhDe' width=\"450\" height=\"200\"/>\n",
        "<figcaption>A FCN-based cat detector adjusts its weights according to where the cat appears</figcaption></center>\n",
        "</figure>\n",
        "\n",
        "These limitations call for a development of new learning architecture. The Convolution Layer - the core of Convolution Neural Network is the most successful answer to this call.\n",
        "\n",
        "#3.2 The Convolution Layer\n",
        "\n",
        "A convolution layer is made of a stack of **filters**. Each filter is stack of **kernels** with the number of kernels in the stack equal to the `depth` of input. A kernel is an 2D array of weights (i.e. matrix). A convolution layer takes in a tensor (a stack of matrix) of size `W_in x H_in x D_in` and produces an output tensor size `W_out x H_out x D_out`. Here, `W_out` and `H_out` are defined by kernels' size (this implied all kernels have the same size). `D_out` is the numer of filters, which means each filter contributes an **2D feature map** to the final output. A brief illustration of how convolution layer work can be found in [this video](https://youtu.be/jajksuQW4mc) made by Udacity.  \n",
        "\n",
        "Next the operation of convolution layer is illustrated.\n",
        "\n",
        "##3.2.1 Convolution with single channel input\n",
        "\n",
        "When inputs are gray scale images (such as MNIST dataset), the inputs' depth is 1, thus each filter is made of 1 kernel. In this particular case, the two terms **filters** and **kernels** are interchangable (which sometimes causes confusion). \n",
        "\n",
        "The 2D convolution illustrated in figure ([source](https://towardsdatascience.com/intuitively-understanding-convolutions-for-deep-learning-1f6f42faee1)) below is made of 3 steps:\n",
        "  * Slide a kernel across the input\n",
        "  * Element-wise multiplication\n",
        "  * Element-wise sum\n",
        "\n",
        "<figure>\n",
        "<center>\n",
        "<img src='https://drive.google.com/uc?id=10XjS0dOAw-mr9Y0-IUorcaPAzTwRmjDn'/>\n",
        "<figcaption>Convolution with single channel input.</figcaption></center>\n",
        "</figure>\n",
        "\n",
        "This operation can be crossed check with Tensorflow's implementation of `Conv2D` layer."
      ]
    },
    {
      "cell_type": "code",
      "metadata": {
        "id": "BSaQUvfv_XWQ",
        "colab": {
          "base_uri": "https://localhost:8080/"
        },
        "outputId": "0aa49603-4aec-4a1e-9b2b-ee269482829b"
      },
      "source": [
        "# Create a single-channel random tensor (i.e. a matrix) of size 5x5\n",
        "t1 = tf.random.uniform(shape=(5, 5), minval=0, maxval=255, dtype=tf.dtypes.float32, seed=7)\n",
        "print(\"t1 (before reshape): \\n\",t1)\n",
        "\n",
        "# reshape t1 so that it can be fed to a Conv2D layer\n",
        "# the 1st number of \"shape\" is the batch_size (the number of images fed to \n",
        "# the network at training time)\n",
        "# the 2nd number is input's width which is 5 in this case\n",
        "# the 3rd number is input's height (5 as well)\n",
        "# the last number is input's depth which is 1\n",
        "t1 = tf.reshape(t1, shape=[1, 5, 5, 1]) \n"
      ],
      "execution_count": 19,
      "outputs": [
        {
          "output_type": "stream",
          "text": [
            "t1 (before reshape): \n",
            " tf.Tensor(\n",
            "[[123.404945 129.08177   65.06166   31.809278 237.91757 ]\n",
            " [169.47537   58.452232 215.27794  196.1214   140.53638 ]\n",
            " [238.79706   27.853205 210.98756   42.35952   41.31403 ]\n",
            " [ 75.15212  135.05649   69.2159   224.77025   14.689526]\n",
            " [195.23306  206.26138   38.13442  150.9252    96.464874]], shape=(5, 5), dtype=float32)\n"
          ],
          "name": "stdout"
        }
      ]
    },
    {
      "cell_type": "code",
      "metadata": {
        "id": "gAyS0iluRu7S"
      },
      "source": [
        "# Create a Conv2D layer whose weights are randomly initialized\n",
        "# for testing the convolution operation, this layer has only 1 filter\n",
        "# the filter has 1 kernel (due to input's depth of 1) of size 3x3\n",
        "conv2d_single = keras.layers.Conv2D(filters=1, kernel_size=3, strides=(1, 1), padding='valid', name=\"conv2d_single\")"
      ],
      "execution_count": 20,
      "outputs": []
    },
    {
      "cell_type": "code",
      "metadata": {
        "id": "_uX1zQ51bAWN",
        "colab": {
          "base_uri": "https://localhost:8080/"
        },
        "outputId": "c708544d-9eeb-4e16-b9c2-7fa7b156ebc4"
      },
      "source": [
        "# Get the ouput of applying conv2d_single on t1\n",
        "out_single = conv2d_single(t1)\n",
        "print(\"out_single: \\n\", out_single)\n",
        "\n",
        "# Since out_single is in the tensor form, its display is not clear,\n",
        "# let's convert it to numpy array and drop all the dimension equal to 1 (using squeeze())\n",
        "out_single_numpy = out_single.numpy().squeeze()\n",
        "print(\"\\nout_single_numpy (beautify): \\n\", out_single_numpy)"
      ],
      "execution_count": 21,
      "outputs": [
        {
          "output_type": "stream",
          "text": [
            "out_single: \n",
            " tf.Tensor(\n",
            "[[[[ 23.629393]\n",
            "   [207.20294 ]\n",
            "   [123.02942 ]]\n",
            "\n",
            "  [[200.93167 ]\n",
            "   [-29.830088]\n",
            "   [177.91472 ]]\n",
            "\n",
            "  [[230.36818 ]\n",
            "   [-67.68744 ]\n",
            "   [229.27101 ]]]], shape=(1, 3, 3, 1), dtype=float32)\n",
            "\n",
            "out_single_numpy (beautify): \n",
            " [[ 23.629393 207.20294  123.02942 ]\n",
            " [200.93167  -29.830088 177.91472 ]\n",
            " [230.36818  -67.68744  229.27101 ]]\n"
          ],
          "name": "stdout"
        }
      ]
    },
    {
      "cell_type": "code",
      "metadata": {
        "id": "cU_q1ZIDCyvL",
        "colab": {
          "base_uri": "https://localhost:8080/"
        },
        "outputId": "88163a51-bfc8-4cb9-8925-9ab263348173"
      },
      "source": [
        "# Get the kernel\n",
        "weights = conv2d_single.get_weights()\n",
        "print(\"weights is a \", type(weights), \" of \", type(weights[0]))\n",
        "print(\"Number of filters: \", len(weights))\n",
        "\n",
        "# Even though weights contains 2 elements, the last elements is empty,\n",
        "# Hence the true number of fitlers is 1\n",
        "if not weights[1]:\n",
        "  print(\"\\nThe 2nd element of weights is empty.\")\n",
        "  print(\"The true number of filters: \", len(weights)-1)\n",
        "\n",
        "# Get the kernel of the 1st (and only) filter\n",
        "kernel = weights[0].squeeze()\n",
        "print(\"\\nKernel: \\n\", kernel)"
      ],
      "execution_count": 22,
      "outputs": [
        {
          "output_type": "stream",
          "text": [
            "weights is a  <class 'list'>  of  <class 'numpy.ndarray'>\n",
            "Number of filters:  2\n",
            "\n",
            "The 2nd element of weights is empty.\n",
            "The true number of filters:  1\n",
            "\n",
            "Kernel: \n",
            " [[ 0.5294268  -0.5731855   0.02316707]\n",
            " [ 0.33785427  0.26588905  0.04181373]\n",
            " [-0.22350451  0.46731424 -0.05056846]]\n"
          ],
          "name": "stdout"
        }
      ]
    },
    {
      "cell_type": "code",
      "metadata": {
        "id": "JKg_tpT8DXQN",
        "colab": {
          "base_uri": "https://localhost:8080/"
        },
        "outputId": "155c039d-7bf0-477a-8f85-b3aa99e48895"
      },
      "source": [
        "# To validate the theory explained at the beginning of this sub section,\n",
        "# let's try calculating the first number in the conv2d_single's output\n",
        "\n",
        "# Since the Conv2D layer is defined with \"valid\" padding, the first number in its\n",
        "# output is produce by convolving the top-left corner 3x3 block of the input\n",
        "# with the kernel\n",
        "\n",
        "# Proceed the 2nd step of convolution - element-wise multiplication\n",
        "# Note that, t1 has been reshaped into a 4D tensor so that it can be fed into\n",
        "# the Conv2D layer. \n",
        "mul_ = t1[0, 0:3, 0:3, 0] * kernel\n",
        "print(\"Element-wise multiplaicaiton:\\n\", mul_)\n",
        "\n",
        "# 3rd step: element-wise sum\n",
        "sum_ = tf.math.reduce_sum(mul_)\n",
        "\n",
        "# Check the output\n",
        "# This output should be close the first element of out_single_numpy \n",
        "assert(np.abs(sum_ - out_single_numpy[0, 0]) < 1e-3)\n",
        "print(\"\\nManual convolution result: \", sum_.numpy())"
      ],
      "execution_count": 23,
      "outputs": [
        {
          "output_type": "stream",
          "text": [
            "Element-wise multiplaicaiton:\n",
            " tf.Tensor(\n",
            "[[ 65.333885  -73.9878      1.5072883]\n",
            " [ 57.257977   15.541808    9.001574 ]\n",
            " [-53.37222    13.016199  -10.669316 ]], shape=(3, 3), dtype=float32)\n",
            "\n",
            "Manual convolution result:  23.629398\n"
          ],
          "name": "stdout"
        }
      ]
    },
    {
      "cell_type": "markdown",
      "metadata": {
        "id": "NBJo2Sm4FBjL"
      },
      "source": [
        "###3.2.2 Convolution with multi channels input\n",
        "\n",
        "In this case, each **filter** is a stack of **kernels**. A filter's depth is equal to the depth of input images. \n",
        "\n",
        "For a filter to produce a **2D feature map**, each of its kernels is applied to the inputs' channel at the same depth to produce an *intermediate* feature map. These intermediate feature maps are then sum element-wise to result in the *final* feature map. This process is illustrated below ([source](https://towardsdatascience.com/a-comprehensive-introduction-to-different-types-of-convolutions-in-deep-learning-669281e58215))\n",
        "\n",
        "<figure>\n",
        "<center>\n",
        "<img src='https://drive.google.com/uc?id=1WinRqO7DV1qRwYUJkMV8n4wowCw0yURH' height=\"150\"/>\n",
        "</figure>\n",
        "<figure>\n",
        "<center>\n",
        "<img src='https://drive.google.com/uc?id=1GfDPMf7IHVonG-em6VJUT_Pj4REbcIp4' height=\"150\"/>\n",
        "<figcaption>Convolution with multi channels input.</figcaption></center>\n",
        "</figure>\n",
        "\n",
        "To check this definition, let's again calculate the output of Tensorflow Conv2D layer and compare it to a manual construction Conv2D layer."
      ]
    },
    {
      "cell_type": "code",
      "metadata": {
        "id": "iuiq4hz9EkV_",
        "colab": {
          "base_uri": "https://localhost:8080/"
        },
        "outputId": "580a2718-1cd8-4c4d-f513-5108380ba37d"
      },
      "source": [
        "# Create a random tensor of size 5x5x3\n",
        "t2 = tf.random.uniform(shape=(5, 5, 3), minval=0, maxval=255, dtype=tf.dtypes.float32, seed=7)\n",
        "\n",
        "# checkout the first channel\n",
        "print(\"First channel:\\n\", t2[:, :, 0])\n",
        "\n",
        "# reshape t2 into a 4D tensor so that it can be fed into Conv2D layer\n",
        "t2 = tf.reshape(t2, shape=(1, 5, 5, 3))"
      ],
      "execution_count": 24,
      "outputs": [
        {
          "output_type": "stream",
          "text": [
            "First channel:\n",
            " tf.Tensor(\n",
            "[[214.96742   86.603065  75.75371   72.984116  62.40697 ]\n",
            " [201.86253  146.16362  191.15242   11.084066  98.09435 ]\n",
            " [210.99307  157.7478   171.66254  107.12829   11.667259]\n",
            " [144.01303  200.86243  198.87437   36.742752 130.67278 ]\n",
            " [ 34.1353    65.48064  227.48932  124.03389  106.71174 ]], shape=(5, 5), dtype=float32)\n"
          ],
          "name": "stdout"
        }
      ]
    },
    {
      "cell_type": "code",
      "metadata": {
        "id": "kIwE-EP0FLFh"
      },
      "source": [
        "# create a new Conv2D layer\n",
        "conv2d_multi = tf.keras.layers.Conv2D(filters=1, kernel_size=3, strides=(1, 1), padding='valid', name=\"conv2d_multi\")"
      ],
      "execution_count": 25,
      "outputs": []
    },
    {
      "cell_type": "code",
      "metadata": {
        "id": "uLyKO0sGFLDK",
        "colab": {
          "base_uri": "https://localhost:8080/"
        },
        "outputId": "1e2e164d-99cf-4c34-b780-fc477e7ad345"
      },
      "source": [
        "# Feed t2 into conv2d_multi and checkout the output\n",
        "out_multi = conv2d_multi(t2)\n",
        "\n",
        "out_multi_numpy = out_multi.numpy().squeeze()\n",
        "print(\"\\nout_multi_numpy (beautify): \\n\", out_multi_numpy)"
      ],
      "execution_count": 26,
      "outputs": [
        {
          "output_type": "stream",
          "text": [
            "\n",
            "out_multi_numpy (beautify): \n",
            " [[343.69336 351.8245  252.60553]\n",
            " [440.44583 207.86429 357.6176 ]\n",
            " [244.93178 272.03976 256.08008]]\n"
          ],
          "name": "stdout"
        }
      ]
    },
    {
      "cell_type": "code",
      "metadata": {
        "id": "fUkUCOB7FLAk",
        "colab": {
          "base_uri": "https://localhost:8080/"
        },
        "outputId": "aa04b994-cec5-451a-c1fe-e978f3566482"
      },
      "source": [
        "# Get filter\n",
        "weights_multi = conv2d_multi.get_weights()\n",
        "filter_ = weights_multi[0]\n",
        "print(\"Shape of filter_: \", filter_.shape)\n",
        "\n",
        "# Display kernels\n",
        "for i in range(filter_.shape[2]):\n",
        "  print(\"\\nkernel %d: \\n\" % i, filter_[:, :, 0].squeeze())"
      ],
      "execution_count": 27,
      "outputs": [
        {
          "output_type": "stream",
          "text": [
            "Shape of filter_:  (3, 3, 3, 1)\n",
            "\n",
            "kernel 0: \n",
            " [[ 0.08372426 -0.22537732  0.31639326]\n",
            " [ 0.18549782 -0.20254579 -0.34321335]\n",
            " [-0.02813849  0.0880959   0.22336447]]\n",
            "\n",
            "kernel 1: \n",
            " [[ 0.08372426 -0.22537732  0.31639326]\n",
            " [ 0.18549782 -0.20254579 -0.34321335]\n",
            " [-0.02813849  0.0880959   0.22336447]]\n",
            "\n",
            "kernel 2: \n",
            " [[ 0.08372426 -0.22537732  0.31639326]\n",
            " [ 0.18549782 -0.20254579 -0.34321335]\n",
            " [-0.02813849  0.0880959   0.22336447]]\n"
          ],
          "name": "stdout"
        }
      ]
    },
    {
      "cell_type": "code",
      "metadata": {
        "id": "WGmVf-eCFK7s"
      },
      "source": [
        "# Mannually calculate the Convolution between t2 and the filter made of 3 kernels above\n",
        "# this calculation is just to check the first element of out_multi_numpy\n",
        "# which is the result of convolution with the top-left 3x3 block of t2\n",
        "\n",
        "sum_0 = tf.math.reduce_sum(t2[0, :3, :3, 0] * filter_[:, :, 0].squeeze())\n",
        "sum_1 = tf.math.reduce_sum(t2[0, :3, :3, 1] * filter_[:, :, 1].squeeze())\n",
        "sum_2 = tf.math.reduce_sum(t2[0, :3, :3, 2] * filter_[:, :, 2].squeeze())\n",
        "\n",
        "sum_fin = sum_0 + sum_1 + sum_2\n",
        "\n",
        "# Check output\n",
        "assert(np.abs(sum_fin - out_multi_numpy[0, 0])<1e-3)"
      ],
      "execution_count": 28,
      "outputs": []
    },
    {
      "cell_type": "markdown",
      "metadata": {
        "id": "tUS0zfvsrED9"
      },
      "source": [
        "## 3.3 LeNet-5"
      ]
    },
    {
      "cell_type": "code",
      "metadata": {
        "id": "3QzoyL8GOUyF"
      },
      "source": [
        "def leNet5(input_shape):\n",
        "  \"\"\"\n",
        "  Define the LeNet-5\n",
        "  Input:\n",
        "    input_shape [tuple]: shape of input image (height, width, channel)\n",
        "  Output:\n",
        "    model (a tensorflow model instance)\n",
        "  \"\"\"\n",
        "  \n",
        "  # Input layer\n",
        "  X_in = keras.layers.Input(shape=input_shape)\n",
        "  \n",
        "  \n",
        "  # Conv2D layer\n",
        "  X = keras.layers.Conv2D(filters=6, kernel_size=(5, 5), strides=(1, 1), \n",
        "                          activation='tanh', \n",
        "                          padding='same', name=\"leNet5_conv1\")(X_in)\n",
        "  \n",
        "  # Pooling layer\n",
        "  X = keras.layers.AveragePooling2D(pool_size=(2, 2), strides=(1, 1), padding='valid')(X)\n",
        "\n",
        "  # Conv2D\n",
        "  X = keras.layers.Conv2D(filters=16, kernel_size=(5, 5), strides=(1, 1), \n",
        "                          activation='tanh', \n",
        "                          padding='valid', name='leNet5_conv2')(X)\n",
        "\n",
        "  # Pooling layer\n",
        "  X = keras.layers.AveragePooling2D(pool_size=(2, 2), strides=(2, 2), padding='valid')(X)\n",
        "\n",
        "  # Conv2D\n",
        "  X = keras.layers.Conv2D(filters=120, kernel_size=(5, 5), strides=(1, 1), \n",
        "                          activation='tanh', \n",
        "                          padding='valid', name='leNet5_conv3')(X)\n",
        "  \n",
        "  # Flatten CNN output so that it can be connected to dense layer\n",
        "  X = keras.layers.Flatten()(X)\n",
        "\n",
        "  # Dense\n",
        "  X = keras.layers.Dense(84, activation='tanh')(X)\n",
        "\n",
        "  # Output layer\n",
        "  y = keras.layers.Dense(10, activation='softmax')(X)\n",
        "\n",
        "  model = keras.Model(inputs=X_in, outputs=y, name='leNet5')\n",
        "  return model"
      ],
      "execution_count": 29,
      "outputs": []
    },
    {
      "cell_type": "code",
      "metadata": {
        "id": "xvMcDeXN0FJZ",
        "colab": {
          "base_uri": "https://localhost:8080/"
        },
        "outputId": "fa453634-2a20-4c02-be5a-445853f1fce1"
      },
      "source": [
        "model_leNet5 = leNet5((28, 28, 1))\n",
        "model_leNet5.summary()"
      ],
      "execution_count": 30,
      "outputs": [
        {
          "output_type": "stream",
          "text": [
            "Model: \"leNet5\"\n",
            "_________________________________________________________________\n",
            "Layer (type)                 Output Shape              Param #   \n",
            "=================================================================\n",
            "input_2 (InputLayer)         [(None, 28, 28, 1)]       0         \n",
            "_________________________________________________________________\n",
            "leNet5_conv1 (Conv2D)        (None, 28, 28, 6)         156       \n",
            "_________________________________________________________________\n",
            "average_pooling2d (AveragePo (None, 27, 27, 6)         0         \n",
            "_________________________________________________________________\n",
            "leNet5_conv2 (Conv2D)        (None, 23, 23, 16)        2416      \n",
            "_________________________________________________________________\n",
            "average_pooling2d_1 (Average (None, 11, 11, 16)        0         \n",
            "_________________________________________________________________\n",
            "leNet5_conv3 (Conv2D)        (None, 7, 7, 120)         48120     \n",
            "_________________________________________________________________\n",
            "flatten_1 (Flatten)          (None, 5880)              0         \n",
            "_________________________________________________________________\n",
            "dense (Dense)                (None, 84)                494004    \n",
            "_________________________________________________________________\n",
            "dense_1 (Dense)              (None, 10)                850       \n",
            "=================================================================\n",
            "Total params: 545,546\n",
            "Trainable params: 545,546\n",
            "Non-trainable params: 0\n",
            "_________________________________________________________________\n"
          ],
          "name": "stdout"
        }
      ]
    },
    {
      "cell_type": "code",
      "metadata": {
        "id": "ENS4ciCZ1SVP"
      },
      "source": [
        "otptim_algorithm = 'adam'\n",
        "model_leNet5.compile(optimizer=otptim_algorithm,\n",
        "              loss=tf.keras.losses.SparseCategoricalCrossentropy(),\n",
        "              metrics=['accuracy'])"
      ],
      "execution_count": 31,
      "outputs": []
    },
    {
      "cell_type": "code",
      "metadata": {
        "id": "CMyxABpl126H"
      },
      "source": [
        "train_images = train_images.reshape(train_images.shape + (1, ))\n",
        "test_images = test_images.reshape(test_images.shape + (1, ))"
      ],
      "execution_count": 32,
      "outputs": []
    },
    {
      "cell_type": "markdown",
      "metadata": {
        "id": "3sVYNg3n2V0z"
      },
      "source": [
        "##Note:\n",
        "\n",
        "Training CNN can take a significantly long time on CPU. Luckily Colab offers GPU for short amount of usage. To save time, you can switch `Runtime` to GPU when trains LeNet-5 by clicking on the tag **Runtime** on top of this page and choose **change runtime type**. In the newly opened window, set **hardware acceleration** to GPU. After this selection, you will need to **rerun the whole Notebook from the very top** with **skipping** Section 3.1 and Section 3.2."
      ]
    },
    {
      "cell_type": "code",
      "metadata": {
        "id": "8rp8Yysl1bJu",
        "colab": {
          "base_uri": "https://localhost:8080/"
        },
        "outputId": "93bf92eb-0be5-4f8d-fcc4-125cbf1af1e6"
      },
      "source": [
        "log_dir = \"logs/fit/\" + \"leNet-5\"\n",
        "%rm -rf \"logs/fit/leNet-5\"\n",
        "tensorboard_cb = tf.keras.callbacks.TensorBoard(log_dir=log_dir, histogram_freq=1)\n",
        "\n",
        "early_stopping =  EarlyStopping(\n",
        "                            monitor='val_loss',\n",
        "                            min_delta=0.0,\n",
        "                            patience=5,\n",
        ")\n",
        "epoch = 30\n",
        "bs = 16\n",
        "# Fitting the dataset\n",
        "history = model_leNet5.fit(x=train_images, \n",
        "            y=train_labels, \n",
        "            epochs=epoch,\n",
        "            batch_size = bs, \n",
        "            validation_data=(val_images, val_labels), \n",
        "            callbacks=[tensorboard_cb])"
      ],
      "execution_count": null,
      "outputs": [
        {
          "output_type": "stream",
          "text": [
            "Epoch 1/30\n",
            "3713/3713 [==============================] - 13s 3ms/step - loss: 0.3699 - accuracy: 0.8883 - val_loss: 0.2321 - val_accuracy: 0.9317\n",
            "Epoch 2/30\n",
            "3713/3713 [==============================] - 12s 3ms/step - loss: 0.2006 - accuracy: 0.9396 - val_loss: 0.1672 - val_accuracy: 0.9483\n",
            "Epoch 3/30\n",
            "3713/3713 [==============================] - 11s 3ms/step - loss: 0.1539 - accuracy: 0.9530 - val_loss: 0.1399 - val_accuracy: 0.9567\n",
            "Epoch 4/30\n",
            "3713/3713 [==============================] - 11s 3ms/step - loss: 0.1272 - accuracy: 0.9612 - val_loss: 0.1027 - val_accuracy: 0.9683\n",
            "Epoch 5/30\n",
            "3713/3713 [==============================] - 11s 3ms/step - loss: 0.1166 - accuracy: 0.9646 - val_loss: 0.1196 - val_accuracy: 0.9650\n",
            "Epoch 6/30\n",
            "3713/3713 [==============================] - 11s 3ms/step - loss: 0.1021 - accuracy: 0.9688 - val_loss: 0.1010 - val_accuracy: 0.9733\n",
            "Epoch 7/30\n",
            "3713/3713 [==============================] - 11s 3ms/step - loss: 0.0923 - accuracy: 0.9727 - val_loss: 0.1006 - val_accuracy: 0.9650\n",
            "Epoch 8/30\n",
            "3713/3713 [==============================] - 11s 3ms/step - loss: 0.0950 - accuracy: 0.9708 - val_loss: 0.1112 - val_accuracy: 0.9683\n",
            "Epoch 9/30\n",
            "3713/3713 [==============================] - 11s 3ms/step - loss: 0.0898 - accuracy: 0.9727 - val_loss: 0.0793 - val_accuracy: 0.9783\n",
            "Epoch 10/30\n",
            "3713/3713 [==============================] - 11s 3ms/step - loss: 0.0829 - accuracy: 0.9740 - val_loss: 0.0858 - val_accuracy: 0.9750\n",
            "Epoch 11/30\n",
            "3713/3713 [==============================] - 11s 3ms/step - loss: 0.0802 - accuracy: 0.9755 - val_loss: 0.1017 - val_accuracy: 0.9767\n",
            "Epoch 12/30\n",
            "3713/3713 [==============================] - 11s 3ms/step - loss: 0.0738 - accuracy: 0.9764 - val_loss: 0.0873 - val_accuracy: 0.9800\n",
            "Epoch 13/30\n",
            "3713/3713 [==============================] - 11s 3ms/step - loss: 0.0743 - accuracy: 0.9772 - val_loss: 0.0813 - val_accuracy: 0.9800\n",
            "Epoch 14/30\n",
            "3713/3713 [==============================] - 11s 3ms/step - loss: 0.0719 - accuracy: 0.9779 - val_loss: 0.0904 - val_accuracy: 0.9750\n",
            "Epoch 15/30\n",
            "3713/3713 [==============================] - 11s 3ms/step - loss: 0.0763 - accuracy: 0.9772 - val_loss: 0.0885 - val_accuracy: 0.9750\n",
            "Epoch 16/30\n",
            "3713/3713 [==============================] - 11s 3ms/step - loss: 0.0736 - accuracy: 0.9770 - val_loss: 0.0886 - val_accuracy: 0.9783\n",
            "Epoch 17/30\n",
            "3713/3713 [==============================] - 11s 3ms/step - loss: 0.0691 - accuracy: 0.9782 - val_loss: 0.0883 - val_accuracy: 0.9817\n",
            "Epoch 18/30\n",
            "3713/3713 [==============================] - 11s 3ms/step - loss: 0.0699 - accuracy: 0.9788 - val_loss: 0.0784 - val_accuracy: 0.9750\n",
            "Epoch 19/30\n",
            "3713/3713 [==============================] - 11s 3ms/step - loss: 0.0685 - accuracy: 0.9784 - val_loss: 0.0953 - val_accuracy: 0.9717\n",
            "Epoch 20/30\n",
            "3713/3713 [==============================] - 11s 3ms/step - loss: 0.0706 - accuracy: 0.9784 - val_loss: 0.0803 - val_accuracy: 0.9783\n",
            "Epoch 21/30\n",
            "3713/3713 [==============================] - 11s 3ms/step - loss: 0.0644 - accuracy: 0.9799 - val_loss: 0.0496 - val_accuracy: 0.9883\n",
            "Epoch 22/30\n",
            "3713/3713 [==============================] - 11s 3ms/step - loss: 0.0652 - accuracy: 0.9798 - val_loss: 0.0722 - val_accuracy: 0.9817\n",
            "Epoch 23/30\n",
            "3713/3713 [==============================] - 11s 3ms/step - loss: 0.0641 - accuracy: 0.9805 - val_loss: 0.0636 - val_accuracy: 0.9817\n",
            "Epoch 24/30\n",
            "3713/3713 [==============================] - 11s 3ms/step - loss: 0.0601 - accuracy: 0.9816 - val_loss: 0.0790 - val_accuracy: 0.9767\n",
            "Epoch 25/30\n",
            "3713/3713 [==============================] - 11s 3ms/step - loss: 0.0608 - accuracy: 0.9805 - val_loss: 0.0647 - val_accuracy: 0.9850\n",
            "Epoch 26/30\n",
            "3713/3713 [==============================] - 11s 3ms/step - loss: 0.0590 - accuracy: 0.9815 - val_loss: 0.0722 - val_accuracy: 0.9850\n",
            "Epoch 27/30\n",
            "3713/3713 [==============================] - 11s 3ms/step - loss: 0.0607 - accuracy: 0.9812 - val_loss: 0.0791 - val_accuracy: 0.9783\n",
            "Epoch 28/30\n",
            "3713/3713 [==============================] - 11s 3ms/step - loss: 0.0582 - accuracy: 0.9822 - val_loss: 0.0882 - val_accuracy: 0.9767\n",
            "Epoch 29/30\n",
            "1745/3713 [=============>................] - ETA: 5s - loss: 0.0540 - accuracy: 0.9836"
          ],
          "name": "stdout"
        }
      ]
    },
    {
      "cell_type": "markdown",
      "metadata": {
        "id": "7rOhPHEx4Jgd"
      },
      "source": [
        "#4. Compare performance of FCN and LeNet-5\n",
        "# TODO:\n",
        "\n",
        "Now, it's your turn to compare the accuracy of LeNet-5 and FCN."
      ]
    },
    {
      "cell_type": "code",
      "metadata": {
        "id": "bFHNA1Ij4I4k"
      },
      "source": [
        "#check  the training process of Lenet5\n",
        "%tensorboard --logdir logs/fit/leNet-5\n",
        "\n",
        "score_LeNet = model_leNet5.evaluate(test_images, test_labels, verbose=0)\n",
        "print('*** test result for Fully Conv Networks (LeNet5)***')\n",
        "print('Test loss:', score_LeNet[0])\n",
        "print('Test accuracy:', score_LeNet[1])\n",
        "\n",
        "\n",
        "# Get model's prediction for test set\n",
        "predictions_LeNet = model_leNet5.predict(test_images)\n",
        "\n",
        "\n"
      ],
      "execution_count": null,
      "outputs": []
    },
    {
      "cell_type": "markdown",
      "metadata": {
        "id": "EdX8vDdATat4"
      },
      "source": [
        "### Reference:\n",
        "https://www.tensorflow.org/tutorials/keras/classification\n",
        "\n",
        "https://www.tensorflow.org/tensorboard/get_started\n",
        "\n",
        "https://engmrk.com/lenet-5-a-classic-cnn-architecture/\n",
        "\n",
        "https://towardsdatascience.com/simple-introduction-to-convolutional-neural-networks-cdf8d3077bac"
      ]
    }
  ]
}